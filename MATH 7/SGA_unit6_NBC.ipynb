{
  "cells": [
    {
      "cell_type": "code",
      "execution_count": 343,
      "id": "60eb34b8",
      "metadata": {},
      "outputs": [],
      "source": [
        "import numpy as np\n",
        "import pandas as pd\n",
        "import matplotlib.pyplot as plt\n",
        "%matplotlib inline\n",
        "from sklearn.model_selection import train_test_split, RandomizedSearchCV\n",
        "from sklearn import metrics\n"
      ]
    },
    {
      "cell_type": "markdown",
      "id": "00009cca",
      "metadata": {
        "id": "00009cca"
      },
      "source": [
        "# Классификация текстов с использованием Наивного Байесовского Классификатора"
      ]
    },
    {
      "cell_type": "markdown",
      "id": "a52414b8",
      "metadata": {
        "id": "a52414b8"
      },
      "source": [
        "## Задание 1 (1 балл)"
      ]
    },
    {
      "cell_type": "markdown",
      "id": "f5f27b43",
      "metadata": {
        "id": "f5f27b43"
      },
      "source": [
        "Откройте данные. Узнайте, сколько в них спам- и не спам-писем. Визуализируйте полученные соотношение подходящим образом."
      ]
    },
    {
      "cell_type": "code",
      "execution_count": 344,
      "id": "ac369274",
      "metadata": {
        "id": "ac369274"
      },
      "outputs": [],
      "source": [
        "df = pd.read_csv('spam_or_not_spam.zip')"
      ]
    },
    {
      "cell_type": "code",
      "execution_count": 345,
      "id": "e734af5e",
      "metadata": {},
      "outputs": [
        {
          "data": {
            "text/plain": [
              "0    2500\n",
              "1     500\n",
              "Name: label, dtype: int64"
            ]
          },
          "execution_count": 345,
          "metadata": {},
          "output_type": "execute_result"
        }
      ],
      "source": [
        "df['label'].value_counts()"
      ]
    },
    {
      "cell_type": "code",
      "execution_count": 346,
      "id": "323ea481",
      "metadata": {},
      "outputs": [
        {
          "data": {
            "text/plain": [
              "<AxesSubplot: title={'center': 'Распределение обьектоа по классам'}, xlabel='label'>"
            ]
          },
          "execution_count": 346,
          "metadata": {},
          "output_type": "execute_result"
        },
        {
          "data": {
            "image/png": "[encoded data removed]",
            "text/plain": [
              "<Figure size 432x288 with 1 Axes>"
            ]
          },
          "metadata": {
            "needs_background": "light"
          },
          "output_type": "display_data"
        }
      ],
      "source": [
        "# визуализируйте результат: ваш код здесь\n",
        "df.groupby('label').count().plot(kind = 'bar', title = 'Распределение обьектоа по классам')"
      ]
    },
    {
      "cell_type": "markdown",
      "id": "b161614b",
      "metadata": {
        "id": "b161614b"
      },
      "source": [
        "## Задание 2 (2 балла)"
      ]
    },
    {
      "cell_type": "markdown",
      "id": "dd29763b",
      "metadata": {
        "id": "dd29763b"
      },
      "source": [
        "Вам необходимо предобработать ваши данные и перевести их в векторный вид. Подгрузим необходимый модуль:"
      ]
    },
    {
      "cell_type": "code",
      "execution_count": 347,
      "id": "382eac9c",
      "metadata": {
        "id": "382eac9c"
      },
      "outputs": [],
      "source": [
        "from sklearn.feature_extraction.text import CountVectorizer\n",
        "from sklearn.naive_bayes import MultinomialNB\n",
        "from sklearn.naive_bayes import ComplementNB\n"
      ]
    },
    {
      "cell_type": "markdown",
      "id": "89546b95",
      "metadata": {
        "id": "89546b95"
      },
      "source": [
        "Замените в данных все пустые строки и строки, состоящие из пробелов, на пропуски (NaN). После этого удалите из данных все строки, в которых наблюдаются пропущенные значения."
      ]
    },
    {
      "cell_type": "code",
      "execution_count": 348,
      "id": "45180f82",
      "metadata": {
        "id": "45180f82"
      },
      "outputs": [],
      "source": [
        "df['email'] = df['email'].replace({'' : np.nan, ' ' : np.nan})\n",
        "df = df.dropna()"
      ]
    },
    {
      "cell_type": "markdown",
      "id": "2ca2fe88",
      "metadata": {
        "id": "2ca2fe88"
      },
      "source": [
        "Переводим данные в векторный вид:"
      ]
    },
    {
      "cell_type": "code",
      "execution_count": 349,
      "id": "29e9a37b",
      "metadata": {
        "id": "29e9a37b"
      },
      "outputs": [],
      "source": [
        "vectorizer = CountVectorizer()\n",
        "X = vectorizer.fit_transform(df[\"email\"])"
      ]
    },
    {
      "cell_type": "markdown",
      "id": "88c8b726",
      "metadata": {
        "id": "88c8b726"
      },
      "source": [
        "Определите, сколько теперь признаков в нашем наборе данных:"
      ]
    },
    {
      "cell_type": "code",
      "execution_count": 350,
      "id": "f19c2a02",
      "metadata": {
        "id": "f19c2a02"
      },
      "outputs": [
        {
          "data": {
            "text/plain": [
              "(2997, 34116)"
            ]
          },
          "execution_count": 350,
          "metadata": {},
          "output_type": "execute_result"
        }
      ],
      "source": [
        "X.shape"
      ]
    },
    {
      "cell_type": "markdown",
      "id": "1803f282",
      "metadata": {
        "id": "1803f282"
      },
      "source": [
        "## Задание 3 (2 балла)"
      ]
    },
    {
      "cell_type": "markdown",
      "id": "39f400b7",
      "metadata": {
        "id": "39f400b7"
      },
      "source": [
        "Определите целевую переменную и признаки:"
      ]
    },
    {
      "cell_type": "code",
      "execution_count": 351,
      "id": "31f1acb6",
      "metadata": {
        "id": "31f1acb6"
      },
      "outputs": [],
      "source": [
        "y = df['label']"
      ]
    },
    {
      "cell_type": "markdown",
      "id": "b20f273e",
      "metadata": {
        "id": "b20f273e"
      },
      "source": [
        "Разделите выборку на обучающую и тестовую, размер тестовой выборки возьмите как 0.25, параметр random_state определите со значением 42:"
      ]
    },
    {
      "cell_type": "code",
      "execution_count": 352,
      "id": "7265bcb1",
      "metadata": {},
      "outputs": [],
      "source": [
        "X_train, X_test, y_train, y_test=train_test_split(X, y, test_size = 0.25, random_state = 42)"
      ]
    },
    {
      "cell_type": "markdown",
      "id": "139dac3d",
      "metadata": {
        "id": "139dac3d"
      },
      "source": [
        "Рассчитайте среднее значение целевой переменной по тестовой выборке:"
      ]
    },
    {
      "cell_type": "code",
      "execution_count": 353,
      "id": "e9baf72d",
      "metadata": {
        "id": "e9baf72d"
      },
      "outputs": [
        {
          "data": {
            "text/plain": [
              "0.17733333333333334"
            ]
          },
          "execution_count": 353,
          "metadata": {},
          "output_type": "execute_result"
        }
      ],
      "source": [
        "y_test.mean()"
      ]
    },
    {
      "cell_type": "markdown",
      "id": "710e0e94",
      "metadata": {
        "id": "710e0e94"
      },
      "source": [
        "## Задание 4 (3 балла)"
      ]
    },
    {
      "cell_type": "markdown",
      "id": "26cf6885",
      "metadata": {
        "id": "26cf6885"
      },
      "source": [
        "Определите и обучите подходящий алгоритм с параметром alpha = 0.01"
      ]
    },
    {
      "cell_type": "code",
      "execution_count": 354,
      "id": "4865dd78",
      "metadata": {
        "id": "4865dd78"
      },
      "outputs": [],
      "source": [
        "clf_ = MultinomialNB(alpha=0.01)\n",
        "clf_M.fit(X_train, y_train)\n",
        "y_pred_M = clf_M.predict(X_test)\n",
        "y_proba = clf_M.predict_proba(X_test)"
      ]
    },
    {
      "cell_type": "code",
      "execution_count": 355,
      "id": "8f7b744a",
      "metadata": {},
      "outputs": [],
      "source": [
        "clf_C = ComplementNB(alpha=0.01)\n",
        "clf_C.fit(X_train, y_train)\n",
        "y_pred_C = clf_C.predict(X_test)"
      ]
    },
    {
      "cell_type": "markdown",
      "id": "d803fbe3",
      "metadata": {
        "id": "d803fbe3"
      },
      "source": [
        "Оцените результат с точки зрения всех известных вам метрик (не менее трёх):"
      ]
    },
    {
      "cell_type": "code",
      "execution_count": 356,
      "id": "b0bbc4d2",
      "metadata": {
        "id": "b0bbc4d2"
      },
      "outputs": [
        {
          "name": "stdout",
          "output_type": "stream",
          "text": [
            "MultinomialNB\n",
            "Accuracy: 0.99067\n",
            "Prcision: 0.977\n",
            "Recall: 0.96992\n",
            "F1: 0.974\n",
            "\n",
            "\n",
            "ComplementNB\n",
            "Accuracy: 0.99067\n",
            "Prcision: 0.97727\n",
            "Recall: 0.96992\n",
            "F1: 0.97358\n"
          ]
        }
      ],
      "source": [
        "print('MultinomialNB')\n",
        "print(f\"Accuracy: {metrics.accuracy_score(y_test, y_pred_M):.5}\")\n",
        "print(f'Prcision: {metrics.precision_score(y_test, y_pred_M):.3}')\n",
        "print(f'Recall: {metrics.recall_score(y_test, y_pred_M):.5}')\n",
        "print(f'F1: {metrics.f1_score(y_test, y_pred_M):.3}')\n",
        "print('\\n')\n",
        "print('ComplementNB')\n",
        "print(f\"Accuracy: {metrics.accuracy_score(y_test, y_pred_C):.5}\")\n",
        "print(f'Prcision: {metrics.precision_score(y_test, y_pred_C):.5}')\n",
        "print(f'Recall: {metrics.recall_score(y_test, y_pred_C):.5}')\n",
        "print(f'F1: {metrics.f1_score(y_test, y_pred_C):.5}')"
      ]
    },
    {
      "cell_type": "markdown",
      "id": "c85976d1",
      "metadata": {
        "id": "c85976d1"
      },
      "source": [
        "Нарисуйте ROC-кривую:"
      ]
    },
    {
      "cell_type": "code",
      "execution_count": 357,
      "id": "9e438c07",
      "metadata": {},
      "outputs": [
        {
          "data": {
            "image/png": "[encoded data removed]",
            "text/plain": [
              "<Figure size 432x288 with 1 Axes>"
            ]
          },
          "metadata": {
            "needs_background": "light"
          },
          "output_type": "display_data"
        }
      ],
      "source": [
        "\n",
        "metrics.RocCurveDisplay.from_estimator(clf_M, X_test, y_test)\n",
        "#display.plot()\n",
        "plt.show()"
      ]
    },
    {
      "cell_type": "code",
      "execution_count": 358,
      "id": "ef19ea4b",
      "metadata": {},
      "outputs": [
        {
          "data": {
            "image/png": "[encoded data removed]",
            "text/plain": [
              "<Figure size 432x288 with 1 Axes>"
            ]
          },
          "metadata": {
            "needs_background": "light"
          },
          "output_type": "display_data"
        }
      ],
      "source": [
        "display = metrics.RocCurveDisplay.from_predictions(y_test, y_proba[:,1])\n",
        "#display.plot()\n",
        "plt.show()"
      ]
    },
    {
      "cell_type": "code",
      "execution_count": 359,
      "id": "200d9bdd",
      "metadata": {},
      "outputs": [
        {
          "data": {
            "image/png": "[encoded data removed]",
            "text/plain": [
              "<Figure size 432x288 with 1 Axes>"
            ]
          },
          "metadata": {
            "needs_background": "light"
          },
          "output_type": "display_data"
        }
      ],
      "source": [
        "fpr, tpr, thresholds = metrics.roc_curve(y_test, y_proba[:,1])\n",
        "roc_auc = metrics.auc(fpr, tpr)\n",
        "display = metrics.RocCurveDisplay(fpr=fpr, tpr=tpr, roc_auc=roc_auc,estimator_name='example estimator')\n",
        "display.plot()\n",
        "plt.show()"
      ]
    },
    {
      "cell_type": "markdown",
      "id": "cf0bb49b",
      "metadata": {
        "id": "cf0bb49b"
      },
      "source": [
        "## Задание 5 (3 балла)"
      ]
    },
    {
      "cell_type": "markdown",
      "id": "30b7a0ae",
      "metadata": {
        "id": "30b7a0ae"
      },
      "source": [
        "Переберите несколько значений alpha с помощью кросс-валидации. Оцените, зависит ли от этого параметра качество классификации."
      ]
    },
    {
      "cell_type": "code",
      "execution_count": 360,
      "id": "fe54e426",
      "metadata": {
        "slideshow": {
          "slide_type": "slide"
        },
        "tags": []
      },
      "outputs": [
        {
          "data": {
            "text/plain": [
              "{'alpha': 0.12}"
            ]
          },
          "execution_count": 360,
          "metadata": {},
          "output_type": "execute_result"
        }
      ],
      "source": [
        "\n",
        "param_dist = {'alpha' : np.linspace(0.01,1,10)}\n",
        "random_search = RandomizedSearchCV(\n",
        "    estimator = clf_C,\n",
        "    param_distributions = param_dist,\n",
        "    cv = 5,\n",
        "    n_iter = 10\n",
        ")\n",
        "random_search.fit(X_train, y_train)\n",
        "random_search.best_params_"
      ]
    },
    {
      "cell_type": "code",
      "execution_count": 361,
      "id": "f825355f",
      "metadata": {
        "tags": [
          "ttag"
        ]
      },
      "outputs": [
        {
          "name": "stdout",
          "output_type": "stream",
          "text": [
            "Accuracy: 0.99067\n",
            "Prcision: 0.97727\n",
            "Recall: 0.96992\n",
            "F1: 0.97358\n"
          ]
        }
      ],
      "source": [
        "clf_best = random_search.best_estimator_\n",
        "y_pred_best = clf_best.predict(X_test)\n",
        "print(f\"Accuracy: {metrics.accuracy_score(y_test, y_pred_best):.5}\")\n",
        "print(f'Prcision: {metrics.precision_score(y_test, y_pred_best):.5}')\n",
        "print(f'Recall: {metrics.recall_score(y_test, y_pred_best):.5}')\n",
        "print(f'F1: {metrics.f1_score(y_test, y_pred_best):.5}')\n"
      ]
    },
    {
      "attachments": {},
      "cell_type": "markdown",
      "id": "3513d907",
      "metadata": {
        "id": "3513d907"
      },
      "source": [
        "С помощью кросс-валидации найдено лучшее значение alpha=0.12, по сравнению с alpha=0.01 качество мадели на уровне точности 5 знаков после запятой не изменилось"
      ]
    },
    {
      "cell_type": "markdown",
      "id": "e89a3a16",
      "metadata": {},
      "source": []
    }
  ],
  "metadata": {
    "colab": {
      "name": "SGA_unit6_NBC.ipynb",
      "provenance": []
    },
    "kernelspec": {
      "display_name": "base",
      "language": "python",
      "name": "python3"
    },
    "language_info": {
      "codemirror_mode": {
        "name": "ipython",
        "version": 3
      },
      "file_extension": ".py",
      "mimetype": "text/x-python",
      "name": "python",
      "nbconvert_exporter": "python",
      "pygments_lexer": "ipython3",
      "version": "3.8.8"
    },
    "vscode": {
      "interpreter": {
        "hash": "bd49f4a79699f83ef7850393535972c01524840716cd7422a2ae2f1bef054ba5"
      }
    }
  },
  "nbformat": 4,
  "nbformat_minor": 5
}
